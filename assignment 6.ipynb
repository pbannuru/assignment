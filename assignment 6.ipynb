{
 "cells": [
  {
   "cell_type": "markdown",
   "id": "05eb5339",
   "metadata": {},
   "source": [
    "1. What are escape characters, and how do you use them?\n",
    "\n",
    "2. What do the escape characters n and t stand for?\n",
    "\n",
    "3. What is the way to include backslash characters in a string?\n",
    "\n",
    "4. The string \"Howl's Moving Castle\" is a correct value. Why isn't the single quote character in the word Howl's not escaped a problem?\n",
    "\n",
    "5. How do you write a string of newlines if you don't want to use the n character?\n",
    "\n",
    "6. What are the values of the given expressions?\n",
    "\n",
    "'Hello, world!'[1]\n",
    "\n",
    "'Hello, world!'[0:5]\n",
    "\n",
    "'Hello, world!'[:5]\n",
    "\n",
    "'Hello, world!'[3:]\n",
    "\n",
    "7. What are the values of the following expressions?\n",
    "\n",
    "'Hello'.upper()\n",
    "\n",
    "'Hello'.upper().isupper()\n",
    "\n",
    "'Hello'.upper().lower()\n",
    "\n",
    "8. What are the values of the following expressions?\n",
    "\n",
    "'Remember, remember, the fifth of July.'.split()\n",
    "\n",
    "'-'.join('There can only one.'.split())\n",
    "\n",
    "9. What are the methods for right-justifying, left-justifying, and centering a string?\n",
    "\n",
    "10. What is the best way to remove whitespace characters from the start or end?\n"
   ]
  },
  {
   "cell_type": "markdown",
   "id": "ce81df5a",
   "metadata": {},
   "source": [
    "1. Escape characters represent characters in string values that would otherwise be difficult or impossible to type into code. In Python strings, the backslash \"\\\" is a special character, also called the \"escape\" character. It is used in representing certain whitespace characters: \"\\t\" is a tab, \"\\n\" is a newline, and \"\\r\" is a carriage return."
   ]
  },
  {
   "cell_type": "markdown",
   "id": "181bbdc4",
   "metadata": {},
   "source": [
    "2. \\n is a newline; \\t is a tab."
   ]
  },
  {
   "cell_type": "markdown",
   "id": "f5f2627f",
   "metadata": {},
   "source": [
    "3. The \\ escape character will represent a backslash character."
   ]
  },
  {
   "cell_type": "markdown",
   "id": "a07080ad",
   "metadata": {},
   "source": [
    "4. The single quote in Howl's is fine because we have used double quotes to mark the beginning and end of the string."
   ]
  },
  {
   "cell_type": "markdown",
   "id": "7fc961e8",
   "metadata": {},
   "source": [
    "5. Multiline strings allow you to use newlines in strings without the \\n escape character."
   ]
  },
  {
   "cell_type": "markdown",
   "id": "89a1b49a",
   "metadata": {},
   "source": [
    "6."
   ]
  },
  {
   "cell_type": "code",
   "execution_count": 2,
   "id": "f4f40c3f",
   "metadata": {},
   "outputs": [
    {
     "data": {
      "text/plain": [
       "'e'"
      ]
     },
     "execution_count": 2,
     "metadata": {},
     "output_type": "execute_result"
    }
   ],
   "source": [
    "'Hello, world!'[1]"
   ]
  },
  {
   "cell_type": "code",
   "execution_count": 3,
   "id": "61d86822",
   "metadata": {},
   "outputs": [
    {
     "data": {
      "text/plain": [
       "'Hello'"
      ]
     },
     "execution_count": 3,
     "metadata": {},
     "output_type": "execute_result"
    }
   ],
   "source": [
    "'Hello, world!'[0:5]"
   ]
  },
  {
   "cell_type": "code",
   "execution_count": 4,
   "id": "a016274b",
   "metadata": {},
   "outputs": [
    {
     "data": {
      "text/plain": [
       "'Hello'"
      ]
     },
     "execution_count": 4,
     "metadata": {},
     "output_type": "execute_result"
    }
   ],
   "source": [
    "'Hello, world!'[:5]"
   ]
  },
  {
   "cell_type": "code",
   "execution_count": 5,
   "id": "792e5fe0",
   "metadata": {},
   "outputs": [
    {
     "data": {
      "text/plain": [
       "'lo, world!'"
      ]
     },
     "execution_count": 5,
     "metadata": {},
     "output_type": "execute_result"
    }
   ],
   "source": [
    "'Hello, world!'[3:]"
   ]
  },
  {
   "cell_type": "markdown",
   "id": "19cce187",
   "metadata": {},
   "source": [
    "7."
   ]
  },
  {
   "cell_type": "code",
   "execution_count": 6,
   "id": "2e3bc69e",
   "metadata": {},
   "outputs": [
    {
     "data": {
      "text/plain": [
       "'HELLO'"
      ]
     },
     "execution_count": 6,
     "metadata": {},
     "output_type": "execute_result"
    }
   ],
   "source": [
    "'Hello'.upper()"
   ]
  },
  {
   "cell_type": "code",
   "execution_count": 7,
   "id": "49428f46",
   "metadata": {},
   "outputs": [
    {
     "data": {
      "text/plain": [
       "True"
      ]
     },
     "execution_count": 7,
     "metadata": {},
     "output_type": "execute_result"
    }
   ],
   "source": [
    "'Hello'.upper().isupper()"
   ]
  },
  {
   "cell_type": "code",
   "execution_count": 8,
   "id": "a4c739c6",
   "metadata": {},
   "outputs": [
    {
     "data": {
      "text/plain": [
       "'hello'"
      ]
     },
     "execution_count": 8,
     "metadata": {},
     "output_type": "execute_result"
    }
   ],
   "source": [
    "'Hello'.upper().lower()"
   ]
  },
  {
   "cell_type": "markdown",
   "id": "bed9ad75",
   "metadata": {},
   "source": [
    "8."
   ]
  },
  {
   "cell_type": "code",
   "execution_count": 9,
   "id": "b8115789",
   "metadata": {},
   "outputs": [
    {
     "data": {
      "text/plain": [
       "['Remember,', 'remember,', 'the', 'fifth', 'of', 'July.']"
      ]
     },
     "execution_count": 9,
     "metadata": {},
     "output_type": "execute_result"
    }
   ],
   "source": [
    "'Remember, remember, the fifth of July.'.split()"
   ]
  },
  {
   "cell_type": "code",
   "execution_count": 10,
   "id": "26792163",
   "metadata": {},
   "outputs": [
    {
     "data": {
      "text/plain": [
       "'There-can-only-one.'"
      ]
     },
     "execution_count": 10,
     "metadata": {},
     "output_type": "execute_result"
    }
   ],
   "source": [
    "'-'.join('There can only one.'.split())"
   ]
  },
  {
   "cell_type": "markdown",
   "id": "c0fabfd6",
   "metadata": {},
   "source": [
    "9. The rjust(), ljust(), and center() string methods, respectively"
   ]
  },
  {
   "cell_type": "markdown",
   "id": "09a3674a",
   "metadata": {},
   "source": [
    "10. The lstrip() and rstrip() methods remove whitespace from the left and right ends of a string, respectively."
   ]
  },
  {
   "cell_type": "code",
   "execution_count": null,
   "id": "80922061",
   "metadata": {},
   "outputs": [],
   "source": []
  }
 ],
 "metadata": {
  "kernelspec": {
   "display_name": "Python 3 (ipykernel)",
   "language": "python",
   "name": "python3"
  },
  "language_info": {
   "codemirror_mode": {
    "name": "ipython",
    "version": 3
   },
   "file_extension": ".py",
   "mimetype": "text/x-python",
   "name": "python",
   "nbconvert_exporter": "python",
   "pygments_lexer": "ipython3",
   "version": "3.9.7"
  }
 },
 "nbformat": 4,
 "nbformat_minor": 5
}
