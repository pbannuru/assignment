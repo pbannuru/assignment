{
 "cells": [
  {
   "cell_type": "code",
   "execution_count": null,
   "id": "844406ed",
   "metadata": {},
   "outputs": [],
   "source": [
    "import logging\n",
    "logging.basicConfig(level=logging.DEBUG,filename=\"log_find_replace.log\",\n",
    "                    format='%(asctime)s %(message)s',\n",
    "                    filemode='w')\n",
    "def read_replace(ft,rt,filename):\n",
    "     try:\n",
    "        fexists = exists(filename)\n",
    "        if fexists:\n",
    "              with open(filename, 'r') as file:\n",
    "                    readtext = file.read()\n",
    "                    replace = readtext.replace(ft, rt)\n",
    "                    with open(filename, 'w') as file:\n",
    "                        file.write(replace)\n",
    "                        return 'placement is replaced by screening'\n",
    "                    with open('example.txt', 'w') as f:\n",
    "                          f.write('This is a placement assignment')\n",
    "        else:\n",
    "            logging.error(\"The entered word not found in the file\")\n",
    "        except Exception as e:\n",
    "            logging.exception(\"Exeception occured during the execution\" + str(e)) "
   ]
  },
  {
   "cell_type": "code",
   "execution_count": 52,
   "id": "036f1a79",
   "metadata": {
    "ExecuteTime": {
     "end_time": "2022-06-08T00:41:23.832185Z",
     "start_time": "2022-06-08T00:41:23.816019Z"
    }
   },
   "outputs": [
    {
     "name": "stdout",
     "output_type": "stream",
     "text": [
      "After Replacing :  This is a screening assignment\n"
     ]
    }
   ],
   "source": [
    "read_replace('placement','screening', 'example.txt')\n",
    "with open('example.txt', 'r') as f:\n",
    "  print('After Replacing : ' , f.read())"
   ]
  },
  {
   "cell_type": "markdown",
   "id": "54038b1b",
   "metadata": {},
   "source": [
    "# multiple inheritence:"
   ]
  },
  {
   "cell_type": "code",
   "execution_count": 53,
   "id": "279d9681",
   "metadata": {
    "ExecuteTime": {
     "end_time": "2022-06-08T00:43:12.830270Z",
     "start_time": "2022-06-08T00:43:12.814234Z"
    }
   },
   "outputs": [],
   "source": [
    "class ABC:\n",
    "    def a1(self):\n",
    "        print(\"ABC class method a1 is called\")\n",
    "\n",
    "class XYZ(ABC):\n",
    "    def a1(self):\n",
    "        print(\"XYZ class method a1 is called\")\n",
    "    def a2(self):\n",
    "        print(\"XYZ class method a2 is called\")\n",
    "\n",
    "class CDE(ABC):\n",
    "    def a1(self):\n",
    "        print(\"CDE class method a1 is called\")\n",
    "        XYZ.a1(self)\n",
    "        ABC.a1(self)"
   ]
  },
  {
   "cell_type": "markdown",
   "id": "04800f90",
   "metadata": {},
   "source": [
    "# Decorators:Decorators are used to change a function's or a class's behaviour. Functions are passed as arguments to another function in Decorators and then called from within the wrapper function."
   ]
  },
  {
   "cell_type": "code",
   "execution_count": 72,
   "id": "36974254",
   "metadata": {
    "ExecuteTime": {
     "end_time": "2022-06-08T00:57:28.007999Z",
     "start_time": "2022-06-08T00:57:27.992094Z"
    }
   },
   "outputs": [],
   "source": [
    "def Exam_notice(func):\n",
    "   \n",
    "    def details():\n",
    "        name = input(\"Enter the first name of yours :\")\n",
    "        print(\"Hi {},\".format(name))\n",
    "        func()\n",
    "        return details()\n",
    "@Exam_notice\n",
    "def exam_centre():\n",
    "    print(\"Welcome to ZP high school exam centre\")"
   ]
  },
  {
   "cell_type": "markdown",
   "id": "792cf3d6",
   "metadata": {},
   "source": [
    "# abstraction:"
   ]
  },
  {
   "cell_type": "code",
   "execution_count": 70,
   "id": "0c53135a",
   "metadata": {
    "ExecuteTime": {
     "end_time": "2022-06-08T00:56:20.409878Z",
     "start_time": "2022-06-08T00:56:20.393877Z"
    }
   },
   "outputs": [],
   "source": [
    "\n",
    "from abc import ABC, abstractmethod\n",
    "class calculate_area(ABC):\n",
    "    def text(self):\n",
    "        return 'This is an Abstract class example'\n",
    "    @abstractmethod # decorator\n",
    "    def area(self):\n",
    "        pass\n",
    "\n",
    "class square(calculate_area):\n",
    "    def __init__(self,side):\n",
    "        self.__side=side        \n",
    "    def area(self):\n",
    "        return self.__side*self.__side\n",
    "\n",
    "class rectangle(calculate_area):\n",
    "    def __init__(self, length, width):\n",
    "        self.length = length\n",
    "        self.width =  width\n",
    "    def area(self):\n",
    "        return self.length*self.width\n",
    "\n",
    "class triangle(calculate_area):\n",
    "    def __init__(self, base, height):\n",
    "        self.base= base\n",
    "        self.height= height\n",
    "    def area(self):\n",
    "        return 1/2*self.base*self.height"
   ]
  },
  {
   "cell_type": "code",
   "execution_count": 71,
   "id": "9b92a657",
   "metadata": {
    "ExecuteTime": {
     "end_time": "2022-06-08T00:56:55.169959Z",
     "start_time": "2022-06-08T00:56:55.164313Z"
    }
   },
   "outputs": [
    {
     "name": "stdout",
     "output_type": "stream",
     "text": [
      "This is an Abstract class example\n",
      "Area of Square 4 \n"
     ]
    }
   ],
   "source": [
    "S = square(2)\n",
    "print(S.text())\n",
    "print('Area of Square {} ' .format(S.area()))"
   ]
  },
  {
   "cell_type": "code",
   "execution_count": null,
   "id": "6727e4d5",
   "metadata": {},
   "outputs": [],
   "source": []
  }
 ],
 "metadata": {
  "kernelspec": {
   "display_name": "Python 3 (ipykernel)",
   "language": "python",
   "name": "python3"
  },
  "language_info": {
   "codemirror_mode": {
    "name": "ipython",
    "version": 3
   },
   "file_extension": ".py",
   "mimetype": "text/x-python",
   "name": "python",
   "nbconvert_exporter": "python",
   "pygments_lexer": "ipython3",
   "version": "3.9.7"
  }
 },
 "nbformat": 4,
 "nbformat_minor": 5
}
