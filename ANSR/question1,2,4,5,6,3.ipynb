{
 "cells": [
  {
   "cell_type": "code",
   "execution_count": 2,
   "id": "b4b11158",
   "metadata": {
    "ExecuteTime": {
     "end_time": "2023-08-31T09:09:15.710825Z",
     "start_time": "2023-08-31T09:09:13.837447Z"
    }
   },
   "outputs": [],
   "source": [
    "import pandas as pd\n",
    "import matplotlib.pyplot as plt\n",
    "import seaborn as sns"
   ]
  },
  {
   "cell_type": "markdown",
   "id": "76f824cd",
   "metadata": {},
   "source": [
    "1. You have been given a dataset named sales_data.csv that contains information about sales transactions. The dataset has columns date, product_id, quantity, and revenue. Write a Python script to read the dataset, manipulate the data to calculate the total revenue for each product, and then create a bar plot to visualize the top 10 products by revenue."
   ]
  },
  {
   "cell_type": "code",
   "execution_count": 3,
   "id": "0fade8de",
   "metadata": {
    "ExecuteTime": {
     "end_time": "2023-08-31T09:09:45.905204Z",
     "start_time": "2023-08-31T09:09:45.837610Z"
    }
   },
   "outputs": [],
   "source": [
    "df=pd.read_csv(r\"C:\\Users\\pbann\\Downloads\\sales_data.csv\")"
   ]
  },
  {
   "cell_type": "code",
   "execution_count": 6,
   "id": "761ef944",
   "metadata": {
    "ExecuteTime": {
     "end_time": "2023-08-31T09:10:20.478340Z",
     "start_time": "2023-08-31T09:10:20.465321Z"
    }
   },
   "outputs": [
    {
     "data": {
      "text/plain": [
       "product_id\n",
       "1001    330\n",
       "1002    360\n",
       "1003    270\n",
       "Name: revenue, dtype: int64"
      ]
     },
     "execution_count": 6,
     "metadata": {},
     "output_type": "execute_result"
    }
   ],
   "source": [
    "df.groupby('product_id')['revenue'].sum()"
   ]
  },
  {
   "cell_type": "code",
   "execution_count": 4,
   "id": "27a4327a",
   "metadata": {
    "ExecuteTime": {
     "end_time": "2023-08-31T09:09:47.337466Z",
     "start_time": "2023-08-31T09:09:47.316468Z"
    }
   },
   "outputs": [],
   "source": [
    "sum1=df.groupby('product_id')['revenue'].sum()"
   ]
  },
  {
   "cell_type": "code",
   "execution_count": 8,
   "id": "e2ed9274",
   "metadata": {
    "ExecuteTime": {
     "end_time": "2023-08-31T09:11:21.379213Z",
     "start_time": "2023-08-31T09:11:21.259874Z"
    },
    "scrolled": true
   },
   "outputs": [
    {
     "data": {
      "text/plain": [
       "Text(0.5, 0, 'Product_id')"
      ]
     },
     "execution_count": 8,
     "metadata": {},
     "output_type": "execute_result"
    },
    {
     "data": {
      "image/png": "[encoded data removed]",
      "text/plain": [
       "<Figure size 640x480 with 1 Axes>"
      ]
     },
     "metadata": {},
     "output_type": "display_data"
    }
   ],
   "source": [
    "plt.bar(sum1.index,sum1.values)\n",
    "plt.ylabel('Revenue')\n",
    "plt.xlabel('Product_id')"
   ]
  },
  {
   "cell_type": "markdown",
   "id": "c696bfc1",
   "metadata": {},
   "source": [
    "2."
   ]
  },
  {
   "cell_type": "code",
   "execution_count": null,
   "id": "4640475e",
   "metadata": {},
   "outputs": [],
   "source": [
    "select empno from salaries where salary =(select max(salary) from salaries) "
   ]
  },
  {
   "cell_type": "markdown",
   "id": "6b0f4726",
   "metadata": {},
   "source": [
    "4."
   ]
  },
  {
   "cell_type": "code",
   "execution_count": null,
   "id": "0c00507e",
   "metadata": {},
   "outputs": [],
   "source": [
    "SELECT \n",
    "    activity_date,\n",
    "    ROUND(\n",
    "        (COUNT(DISTINCT CASE WHEN activity_type IS NOT NULL THEN user_id END) /\n",
    "         COUNT(DISTINCT user_id)) * 100,\n",
    "         2) AS daily_engagement_rate\n",
    "FROM user_activity\n",
    "GROUP BY activity_date\n",
    "ORDER BY activity_date;\n"
   ]
  },
  {
   "cell_type": "code",
   "execution_count": null,
   "id": "92efe7b0",
   "metadata": {},
   "outputs": [],
   "source": [
    "5."
   ]
  },
  {
   "cell_type": "code",
   "execution_count": 10,
   "id": "0fba3864",
   "metadata": {
    "ExecuteTime": {
     "end_time": "2023-08-31T09:23:52.715254Z",
     "start_time": "2023-08-31T09:23:52.686236Z"
    }
   },
   "outputs": [],
   "source": [
    "def clean_data(path):\n",
    "    df=pd.read_csv(path)\n",
    "    df.drop_duplicates()\n",
    "    for  i in df.columns:\n",
    "        df[i]=df[i].fillna(df[i].mode())\n",
    "    return df  "
   ]
  },
  {
   "cell_type": "code",
   "execution_count": 11,
   "id": "1876dc9c",
   "metadata": {
    "ExecuteTime": {
     "end_time": "2023-08-31T09:23:53.565097Z",
     "start_time": "2023-08-31T09:23:53.477541Z"
    }
   },
   "outputs": [
    {
     "data": {
      "text/html": [
       "<div>\n",
       "<style scoped>\n",
       "    .dataframe tbody tr th:only-of-type {\n",
       "        vertical-align: middle;\n",
       "    }\n",
       "\n",
       "    .dataframe tbody tr th {\n",
       "        vertical-align: top;\n",
       "    }\n",
       "\n",
       "    .dataframe thead th {\n",
       "        text-align: right;\n",
       "    }\n",
       "</style>\n",
       "<table border=\"1\" class=\"dataframe\">\n",
       "  <thead>\n",
       "    <tr style=\"text-align: right;\">\n",
       "      <th></th>\n",
       "      <th>customer_id</th>\n",
       "      <th>age</th>\n",
       "      <th>gender</th>\n",
       "      <th>email</th>\n",
       "      <th>purchases</th>\n",
       "    </tr>\n",
       "  </thead>\n",
       "  <tbody>\n",
       "    <tr>\n",
       "      <th>0</th>\n",
       "      <td>1001</td>\n",
       "      <td>35</td>\n",
       "      <td>M</td>\n",
       "      <td>abc@example.com</td>\n",
       "      <td>10.0</td>\n",
       "    </tr>\n",
       "    <tr>\n",
       "      <th>1</th>\n",
       "      <td>1002</td>\n",
       "      <td>28</td>\n",
       "      <td>F</td>\n",
       "      <td>def@example.com</td>\n",
       "      <td>5.0</td>\n",
       "    </tr>\n",
       "    <tr>\n",
       "      <th>2</th>\n",
       "      <td>1003</td>\n",
       "      <td>40</td>\n",
       "      <td>F</td>\n",
       "      <td>ghi@example.com</td>\n",
       "      <td>8.0</td>\n",
       "    </tr>\n",
       "    <tr>\n",
       "      <th>3</th>\n",
       "      <td>1004</td>\n",
       "      <td>45</td>\n",
       "      <td>M</td>\n",
       "      <td>jkl@example.com</td>\n",
       "      <td>8.0</td>\n",
       "    </tr>\n",
       "    <tr>\n",
       "      <th>4</th>\n",
       "      <td>1005</td>\n",
       "      <td>33</td>\n",
       "      <td>M</td>\n",
       "      <td>mno@example.com</td>\n",
       "      <td>15.0</td>\n",
       "    </tr>\n",
       "    <tr>\n",
       "      <th>5</th>\n",
       "      <td>1006</td>\n",
       "      <td>27</td>\n",
       "      <td>F</td>\n",
       "      <td>pqr@example.com</td>\n",
       "      <td>12.0</td>\n",
       "    </tr>\n",
       "    <tr>\n",
       "      <th>6</th>\n",
       "      <td>1007</td>\n",
       "      <td>50</td>\n",
       "      <td>M</td>\n",
       "      <td>stu@example.com</td>\n",
       "      <td>12.0</td>\n",
       "    </tr>\n",
       "    <tr>\n",
       "      <th>7</th>\n",
       "      <td>1008</td>\n",
       "      <td>29</td>\n",
       "      <td>F</td>\n",
       "      <td>vwx@example.com</td>\n",
       "      <td>7.0</td>\n",
       "    </tr>\n",
       "    <tr>\n",
       "      <th>8</th>\n",
       "      <td>1009</td>\n",
       "      <td>38</td>\n",
       "      <td>F</td>\n",
       "      <td>yza@example.com</td>\n",
       "      <td>9.0</td>\n",
       "    </tr>\n",
       "  </tbody>\n",
       "</table>\n",
       "</div>"
      ],
      "text/plain": [
       "   customer_id  age gender            email  purchases\n",
       "0         1001   35      M  abc@example.com       10.0\n",
       "1         1002   28      F  def@example.com        5.0\n",
       "2         1003   40      F  ghi@example.com        8.0\n",
       "3         1004   45      M  jkl@example.com        8.0\n",
       "4         1005   33      M  mno@example.com       15.0\n",
       "5         1006   27      F  pqr@example.com       12.0\n",
       "6         1007   50      M  stu@example.com       12.0\n",
       "7         1008   29      F  vwx@example.com        7.0\n",
       "8         1009   38      F  yza@example.com        9.0"
      ]
     },
     "execution_count": 11,
     "metadata": {},
     "output_type": "execute_result"
    }
   ],
   "source": [
    "path=r'C:\\Users\\pbann\\Downloads\\customer_data.csv'\n",
    "clean_data(path)"
   ]
  },
  {
   "cell_type": "code",
   "execution_count": 13,
   "id": "c9bd5186",
   "metadata": {
    "ExecuteTime": {
     "end_time": "2023-08-31T09:24:38.964763Z",
     "start_time": "2023-08-31T09:24:38.956762Z"
    }
   },
   "outputs": [],
   "source": [
    "df=pd.read_csv(path)"
   ]
  },
  {
   "cell_type": "code",
   "execution_count": 18,
   "id": "0ec49386",
   "metadata": {
    "ExecuteTime": {
     "end_time": "2023-08-31T09:26:18.174051Z",
     "start_time": "2023-08-31T09:26:18.150229Z"
    }
   },
   "outputs": [
    {
     "data": {
      "text/plain": [
       "gender\n",
       "F     7.00\n",
       "M    11.25\n",
       "Name: purchases, dtype: float64"
      ]
     },
     "execution_count": 18,
     "metadata": {},
     "output_type": "execute_result"
    }
   ],
   "source": [
    "df.groupby('gender')['purchases'].mean()"
   ]
  },
  {
   "cell_type": "markdown",
   "id": "c5c2c92d",
   "metadata": {},
   "source": [
    "6."
   ]
  },
  {
   "cell_type": "code",
   "execution_count": null,
   "id": "63538015",
   "metadata": {},
   "outputs": [],
   "source": [
    "SELECT \n",
    "    i.product_id,\n",
    "    i.warehouse_id,\n",
    "    i.quantity AS total_quantity\n",
    "FROM\n",
    "    inventory i\n",
    "JOIN (\n",
    "    SELECT \n",
    "        product_id,\n",
    "        warehouse_id,\n",
    "        MAX(date) AS latest_date\n",
    "    FROM \n",
    "        inventory\n",
    "    GROUP BY \n",
    "        product_id,\n",
    "        warehouse_id\n",
    ") latest_inventory ON i.product_id = latest_inventory.product_id \n",
    "                    AND i.warehouse_id = latest_inventory.warehouse_id\n",
    "                    AND i.date = latest_inventory.latest_date;\n"
   ]
  },
  {
   "cell_type": "markdown",
   "id": "29438a72",
   "metadata": {},
   "source": [
    "8."
   ]
  },
  {
   "cell_type": "code",
   "execution_count": null,
   "id": "2debeebd",
   "metadata": {},
   "outputs": [],
   "source": [
    "https://github.com/pbannuru/assignment/blob/main/ANSR/carsales.pdf"
   ]
  },
  {
   "cell_type": "markdown",
   "id": "22240df6",
   "metadata": {},
   "source": [
    "3."
   ]
  },
  {
   "cell_type": "code",
   "execution_count": 22,
   "id": "3e8dd045",
   "metadata": {
    "ExecuteTime": {
     "end_time": "2023-08-31T10:05:52.976447Z",
     "start_time": "2023-08-31T10:05:52.968798Z"
    }
   },
   "outputs": [],
   "source": [
    "df=pd.read_csv(r\"C:\\Users\\pbann\\Downloads\\sales_data.csv\")"
   ]
  },
  {
   "cell_type": "code",
   "execution_count": 28,
   "id": "16024f9c",
   "metadata": {
    "ExecuteTime": {
     "end_time": "2023-08-31T10:08:11.796479Z",
     "start_time": "2023-08-31T10:08:11.773642Z"
    }
   },
   "outputs": [
    {
     "name": "stderr",
     "output_type": "stream",
     "text": [
      "C:\\Users\\pbann\\AppData\\Local\\Temp\\ipykernel_34696\\1213281828.py:1: UserWarning: Parsing '13-07-2023' in DD/MM/YYYY format. Provide format or specify infer_datetime_format=True for consistent parsing.\n",
      "  df['date']=pd.to_datetime(df['date'])\n",
      "C:\\Users\\pbann\\AppData\\Local\\Temp\\ipykernel_34696\\1213281828.py:1: UserWarning: Parsing '14-07-2023' in DD/MM/YYYY format. Provide format or specify infer_datetime_format=True for consistent parsing.\n",
      "  df['date']=pd.to_datetime(df['date'])\n",
      "C:\\Users\\pbann\\AppData\\Local\\Temp\\ipykernel_34696\\1213281828.py:1: UserWarning: Parsing '15-07-2023' in DD/MM/YYYY format. Provide format or specify infer_datetime_format=True for consistent parsing.\n",
      "  df['date']=pd.to_datetime(df['date'])\n",
      "C:\\Users\\pbann\\AppData\\Local\\Temp\\ipykernel_34696\\1213281828.py:1: UserWarning: Parsing '16-07-2023' in DD/MM/YYYY format. Provide format or specify infer_datetime_format=True for consistent parsing.\n",
      "  df['date']=pd.to_datetime(df['date'])\n",
      "C:\\Users\\pbann\\AppData\\Local\\Temp\\ipykernel_34696\\1213281828.py:1: UserWarning: Parsing '17-07-2023' in DD/MM/YYYY format. Provide format or specify infer_datetime_format=True for consistent parsing.\n",
      "  df['date']=pd.to_datetime(df['date'])\n",
      "C:\\Users\\pbann\\AppData\\Local\\Temp\\ipykernel_34696\\1213281828.py:1: UserWarning: Parsing '18-07-2023' in DD/MM/YYYY format. Provide format or specify infer_datetime_format=True for consistent parsing.\n",
      "  df['date']=pd.to_datetime(df['date'])\n",
      "C:\\Users\\pbann\\AppData\\Local\\Temp\\ipykernel_34696\\1213281828.py:1: UserWarning: Parsing '19-07-2023' in DD/MM/YYYY format. Provide format or specify infer_datetime_format=True for consistent parsing.\n",
      "  df['date']=pd.to_datetime(df['date'])\n",
      "C:\\Users\\pbann\\AppData\\Local\\Temp\\ipykernel_34696\\1213281828.py:1: UserWarning: Parsing '20-07-2023' in DD/MM/YYYY format. Provide format or specify infer_datetime_format=True for consistent parsing.\n",
      "  df['date']=pd.to_datetime(df['date'])\n",
      "C:\\Users\\pbann\\AppData\\Local\\Temp\\ipykernel_34696\\1213281828.py:1: UserWarning: Parsing '21-07-2023' in DD/MM/YYYY format. Provide format or specify infer_datetime_format=True for consistent parsing.\n",
      "  df['date']=pd.to_datetime(df['date'])\n"
     ]
    }
   ],
   "source": [
    "df['date']=pd.to_datetime(df['date'])"
   ]
  },
  {
   "cell_type": "code",
   "execution_count": 30,
   "id": "cb92e6ac",
   "metadata": {
    "ExecuteTime": {
     "end_time": "2023-08-31T10:08:38.719003Z",
     "start_time": "2023-08-31T10:08:38.710036Z"
    }
   },
   "outputs": [
    {
     "data": {
      "text/plain": [
       "date             datetime64[ns]\n",
       "closing_price           float64\n",
       "dtype: object"
      ]
     },
     "execution_count": 30,
     "metadata": {},
     "output_type": "execute_result"
    }
   ],
   "source": [
    "df.dtypes"
   ]
  },
  {
   "cell_type": "code",
   "execution_count": 31,
   "id": "7c54f8c2",
   "metadata": {
    "ExecuteTime": {
     "end_time": "2023-08-31T10:08:44.257982Z",
     "start_time": "2023-08-31T10:08:44.246450Z"
    }
   },
   "outputs": [
    {
     "data": {
      "text/html": [
       "<div>\n",
       "<style scoped>\n",
       "    .dataframe tbody tr th:only-of-type {\n",
       "        vertical-align: middle;\n",
       "    }\n",
       "\n",
       "    .dataframe tbody tr th {\n",
       "        vertical-align: top;\n",
       "    }\n",
       "\n",
       "    .dataframe thead th {\n",
       "        text-align: right;\n",
       "    }\n",
       "</style>\n",
       "<table border=\"1\" class=\"dataframe\">\n",
       "  <thead>\n",
       "    <tr style=\"text-align: right;\">\n",
       "      <th></th>\n",
       "      <th>date</th>\n",
       "      <th>closing_price</th>\n",
       "    </tr>\n",
       "  </thead>\n",
       "  <tbody>\n",
       "    <tr>\n",
       "      <th>0</th>\n",
       "      <td>2023-01-07</td>\n",
       "      <td>150.0</td>\n",
       "    </tr>\n",
       "    <tr>\n",
       "      <th>1</th>\n",
       "      <td>2023-02-07</td>\n",
       "      <td>152.5</td>\n",
       "    </tr>\n",
       "    <tr>\n",
       "      <th>2</th>\n",
       "      <td>2023-03-07</td>\n",
       "      <td>155.2</td>\n",
       "    </tr>\n",
       "    <tr>\n",
       "      <th>3</th>\n",
       "      <td>2023-04-07</td>\n",
       "      <td>157.9</td>\n",
       "    </tr>\n",
       "    <tr>\n",
       "      <th>4</th>\n",
       "      <td>2023-05-07</td>\n",
       "      <td>159.8</td>\n",
       "    </tr>\n",
       "    <tr>\n",
       "      <th>5</th>\n",
       "      <td>2023-06-07</td>\n",
       "      <td>161.3</td>\n",
       "    </tr>\n",
       "    <tr>\n",
       "      <th>6</th>\n",
       "      <td>2023-07-07</td>\n",
       "      <td>163.1</td>\n",
       "    </tr>\n",
       "    <tr>\n",
       "      <th>7</th>\n",
       "      <td>2023-08-07</td>\n",
       "      <td>165.0</td>\n",
       "    </tr>\n",
       "    <tr>\n",
       "      <th>8</th>\n",
       "      <td>2023-09-07</td>\n",
       "      <td>168.2</td>\n",
       "    </tr>\n",
       "    <tr>\n",
       "      <th>9</th>\n",
       "      <td>2023-10-07</td>\n",
       "      <td>170.5</td>\n",
       "    </tr>\n",
       "    <tr>\n",
       "      <th>10</th>\n",
       "      <td>2023-11-07</td>\n",
       "      <td>172.8</td>\n",
       "    </tr>\n",
       "    <tr>\n",
       "      <th>11</th>\n",
       "      <td>2023-12-07</td>\n",
       "      <td>173.5</td>\n",
       "    </tr>\n",
       "    <tr>\n",
       "      <th>12</th>\n",
       "      <td>2023-07-13</td>\n",
       "      <td>171.9</td>\n",
       "    </tr>\n",
       "    <tr>\n",
       "      <th>13</th>\n",
       "      <td>2023-07-14</td>\n",
       "      <td>170.0</td>\n",
       "    </tr>\n",
       "    <tr>\n",
       "      <th>14</th>\n",
       "      <td>2023-07-15</td>\n",
       "      <td>172.4</td>\n",
       "    </tr>\n",
       "    <tr>\n",
       "      <th>15</th>\n",
       "      <td>2023-07-16</td>\n",
       "      <td>173.6</td>\n",
       "    </tr>\n",
       "    <tr>\n",
       "      <th>16</th>\n",
       "      <td>2023-07-17</td>\n",
       "      <td>175.0</td>\n",
       "    </tr>\n",
       "    <tr>\n",
       "      <th>17</th>\n",
       "      <td>2023-07-18</td>\n",
       "      <td>176.3</td>\n",
       "    </tr>\n",
       "    <tr>\n",
       "      <th>18</th>\n",
       "      <td>2023-07-19</td>\n",
       "      <td>178.2</td>\n",
       "    </tr>\n",
       "    <tr>\n",
       "      <th>19</th>\n",
       "      <td>2023-07-20</td>\n",
       "      <td>179.8</td>\n",
       "    </tr>\n",
       "    <tr>\n",
       "      <th>20</th>\n",
       "      <td>2023-07-21</td>\n",
       "      <td>180.5</td>\n",
       "    </tr>\n",
       "  </tbody>\n",
       "</table>\n",
       "</div>"
      ],
      "text/plain": [
       "         date  closing_price\n",
       "0  2023-01-07          150.0\n",
       "1  2023-02-07          152.5\n",
       "2  2023-03-07          155.2\n",
       "3  2023-04-07          157.9\n",
       "4  2023-05-07          159.8\n",
       "5  2023-06-07          161.3\n",
       "6  2023-07-07          163.1\n",
       "7  2023-08-07          165.0\n",
       "8  2023-09-07          168.2\n",
       "9  2023-10-07          170.5\n",
       "10 2023-11-07          172.8\n",
       "11 2023-12-07          173.5\n",
       "12 2023-07-13          171.9\n",
       "13 2023-07-14          170.0\n",
       "14 2023-07-15          172.4\n",
       "15 2023-07-16          173.6\n",
       "16 2023-07-17          175.0\n",
       "17 2023-07-18          176.3\n",
       "18 2023-07-19          178.2\n",
       "19 2023-07-20          179.8\n",
       "20 2023-07-21          180.5"
      ]
     },
     "execution_count": 31,
     "metadata": {},
     "output_type": "execute_result"
    }
   ],
   "source": [
    "df"
   ]
  },
  {
   "cell_type": "code",
   "execution_count": 32,
   "id": "ef917a1f",
   "metadata": {
    "ExecuteTime": {
     "end_time": "2023-08-31T10:11:32.357686Z",
     "start_time": "2023-08-31T10:11:32.335306Z"
    }
   },
   "outputs": [],
   "source": [
    "rolling_average = df['closing_price'].rolling(window=30).mean()\n",
    "\n"
   ]
  },
  {
   "cell_type": "code",
   "execution_count": 33,
   "id": "eee8c195",
   "metadata": {
    "ExecuteTime": {
     "end_time": "2023-08-31T10:11:35.326616Z",
     "start_time": "2023-08-31T10:11:35.151005Z"
    }
   },
   "outputs": [
    {
     "data": {
      "image/png": "[encoded data removed]",
      "text/plain": [
       "<Figure size 1000x600 with 1 Axes>"
      ]
     },
     "metadata": {},
     "output_type": "display_data"
    }
   ],
   "source": [
    "# Plot the closing price and rolling average\n",
    "plt.figure(figsize=(10, 6))\n",
    "plt.plot(df.index, df['closing_price'], label='Closing Price')\n",
    "plt.plot(rolling_average.index, rolling_average, label='30-Day Moving Average', color='red')\n",
    "plt.xlabel('Date')\n",
    "plt.ylabel('Price')\n",
    "plt.title('Closing Price with 30-Day Moving Average')\n",
    "plt.legend()\n",
    "plt.tight_layout()\n",
    "plt.show()"
   ]
  },
  {
   "cell_type": "code",
   "execution_count": null,
   "id": "e8995c94",
   "metadata": {},
   "outputs": [],
   "source": []
  }
 ],
 "metadata": {
  "kernelspec": {
   "display_name": "Python 3 (ipykernel)",
   "language": "python",
   "name": "python3"
  },
  "language_info": {
   "codemirror_mode": {
    "name": "ipython",
    "version": 3
   },
   "file_extension": ".py",
   "mimetype": "text/x-python",
   "name": "python",
   "nbconvert_exporter": "python",
   "pygments_lexer": "ipython3",
   "version": "3.9.13"
  }
 },
 "nbformat": 4,
 "nbformat_minor": 5
}
