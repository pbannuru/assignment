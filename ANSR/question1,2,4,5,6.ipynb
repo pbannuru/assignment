{
 "cells": [
  {
   "cell_type": "code",
   "execution_count": 2,
   "id": "0f781ad5",
   "metadata": {
    "ExecuteTime": {
     "end_time": "2023-08-31T09:09:15.710825Z",
     "start_time": "2023-08-31T09:09:13.837447Z"
    }
   },
   "outputs": [],
   "source": [
    "import pandas as pd\n",
    "import matplotlib.pyplot as plt\n",
    "import seaborn as sns"
   ]
  },
  {
   "cell_type": "markdown",
   "id": "fbf07d1c",
   "metadata": {},
   "source": [
    "1. You have been given a dataset named sales_data.csv that contains information about sales transactions. The dataset has columns date, product_id, quantity, and revenue. Write a Python script to read the dataset, manipulate the data to calculate the total revenue for each product, and then create a bar plot to visualize the top 10 products by revenue."
   ]
  },
  {
   "cell_type": "code",
   "execution_count": 3,
   "id": "4f45e2f2",
   "metadata": {
    "ExecuteTime": {
     "end_time": "2023-08-31T09:09:45.905204Z",
     "start_time": "2023-08-31T09:09:45.837610Z"
    }
   },
   "outputs": [],
   "source": [
    "df=pd.read_csv(r\"C:\\Users\\pbann\\Downloads\\sales_data.csv\")"
   ]
  },
  {
   "cell_type": "code",
   "execution_count": 6,
   "id": "04c44f8c",
   "metadata": {
    "ExecuteTime": {
     "end_time": "2023-08-31T09:10:20.478340Z",
     "start_time": "2023-08-31T09:10:20.465321Z"
    }
   },
   "outputs": [
    {
     "data": {
      "text/plain": [
       "product_id\n",
       "1001    330\n",
       "1002    360\n",
       "1003    270\n",
       "Name: revenue, dtype: int64"
      ]
     },
     "execution_count": 6,
     "metadata": {},
     "output_type": "execute_result"
    }
   ],
   "source": [
    "df.groupby('product_id')['revenue'].sum()"
   ]
  },
  {
   "cell_type": "code",
   "execution_count": 4,
   "id": "afedcaaf",
   "metadata": {
    "ExecuteTime": {
     "end_time": "2023-08-31T09:09:47.337466Z",
     "start_time": "2023-08-31T09:09:47.316468Z"
    }
   },
   "outputs": [],
   "source": [
    "sum1=df.groupby('product_id')['revenue'].sum()"
   ]
  },
  {
   "cell_type": "code",
   "execution_count": 8,
   "id": "34260633",
   "metadata": {
    "ExecuteTime": {
     "end_time": "2023-08-31T09:11:21.379213Z",
     "start_time": "2023-08-31T09:11:21.259874Z"
    },
    "scrolled": true
   },
   "outputs": [
    {
     "data": {
      "text/plain": [
       "Text(0.5, 0, 'Product_id')"
      ]
     },
     "execution_count": 8,
     "metadata": {},
     "output_type": "execute_result"
    },
    {
     "data": {
      "image/png": "[encoded data removed]",
      "text/plain": [
       "<Figure size 640x480 with 1 Axes>"
      ]
     },
     "metadata": {},
     "output_type": "display_data"
    }
   ],
   "source": [
    "plt.bar(sum1.index,sum1.values)\n",
    "plt.ylabel('Revenue')\n",
    "plt.xlabel('Product_id')"
   ]
  },
  {
   "cell_type": "markdown",
   "id": "ebedca2d",
   "metadata": {},
   "source": [
    "2."
   ]
  },
  {
   "cell_type": "code",
   "execution_count": null,
   "id": "b4ffdc47",
   "metadata": {},
   "outputs": [],
   "source": [
    "select empno from salaries where salary =(select max(salary) from salaries) "
   ]
  },
  {
   "cell_type": "markdown",
   "id": "3b1f52d8",
   "metadata": {},
   "source": [
    "4."
   ]
  },
  {
   "cell_type": "code",
   "execution_count": null,
   "id": "6599aee6",
   "metadata": {},
   "outputs": [],
   "source": [
    "SELECT \n",
    "    activity_date,\n",
    "    ROUND(\n",
    "        (COUNT(DISTINCT CASE WHEN activity_type IS NOT NULL THEN user_id END) /\n",
    "         COUNT(DISTINCT user_id)) * 100,\n",
    "         2) AS daily_engagement_rate\n",
    "FROM user_activity\n",
    "GROUP BY activity_date\n",
    "ORDER BY activity_date;\n"
   ]
  },
  {
   "cell_type": "code",
   "execution_count": null,
   "id": "58a06573",
   "metadata": {},
   "outputs": [],
   "source": [
    "5."
   ]
  },
  {
   "cell_type": "code",
   "execution_count": 10,
   "id": "e0f3c2bf",
   "metadata": {
    "ExecuteTime": {
     "end_time": "2023-08-31T09:23:52.715254Z",
     "start_time": "2023-08-31T09:23:52.686236Z"
    }
   },
   "outputs": [],
   "source": [
    "def clean_data(path):\n",
    "    df=pd.read_csv(path)\n",
    "    df.drop_duplicates()\n",
    "    for  i in df.columns:\n",
    "        df[i]=df[i].fillna(df[i].mode())\n",
    "    return df  "
   ]
  },
  {
   "cell_type": "code",
   "execution_count": 11,
   "id": "813590e1",
   "metadata": {
    "ExecuteTime": {
     "end_time": "2023-08-31T09:23:53.565097Z",
     "start_time": "2023-08-31T09:23:53.477541Z"
    }
   },
   "outputs": [
    {
     "data": {
      "text/html": [
       "<div>\n",
       "<style scoped>\n",
       "    .dataframe tbody tr th:only-of-type {\n",
       "        vertical-align: middle;\n",
       "    }\n",
       "\n",
       "    .dataframe tbody tr th {\n",
       "        vertical-align: top;\n",
       "    }\n",
       "\n",
       "    .dataframe thead th {\n",
       "        text-align: right;\n",
       "    }\n",
       "</style>\n",
       "<table border=\"1\" class=\"dataframe\">\n",
       "  <thead>\n",
       "    <tr style=\"text-align: right;\">\n",
       "      <th></th>\n",
       "      <th>customer_id</th>\n",
       "      <th>age</th>\n",
       "      <th>gender</th>\n",
       "      <th>email</th>\n",
       "      <th>purchases</th>\n",
       "    </tr>\n",
       "  </thead>\n",
       "  <tbody>\n",
       "    <tr>\n",
       "      <th>0</th>\n",
       "      <td>1001</td>\n",
       "      <td>35</td>\n",
       "      <td>M</td>\n",
       "      <td>abc@example.com</td>\n",
       "      <td>10.0</td>\n",
       "    </tr>\n",
       "    <tr>\n",
       "      <th>1</th>\n",
       "      <td>1002</td>\n",
       "      <td>28</td>\n",
       "      <td>F</td>\n",
       "      <td>def@example.com</td>\n",
       "      <td>5.0</td>\n",
       "    </tr>\n",
       "    <tr>\n",
       "      <th>2</th>\n",
       "      <td>1003</td>\n",
       "      <td>40</td>\n",
       "      <td>F</td>\n",
       "      <td>ghi@example.com</td>\n",
       "      <td>8.0</td>\n",
       "    </tr>\n",
       "    <tr>\n",
       "      <th>3</th>\n",
       "      <td>1004</td>\n",
       "      <td>45</td>\n",
       "      <td>M</td>\n",
       "      <td>jkl@example.com</td>\n",
       "      <td>8.0</td>\n",
       "    </tr>\n",
       "    <tr>\n",
       "      <th>4</th>\n",
       "      <td>1005</td>\n",
       "      <td>33</td>\n",
       "      <td>M</td>\n",
       "      <td>mno@example.com</td>\n",
       "      <td>15.0</td>\n",
       "    </tr>\n",
       "    <tr>\n",
       "      <th>5</th>\n",
       "      <td>1006</td>\n",
       "      <td>27</td>\n",
       "      <td>F</td>\n",
       "      <td>pqr@example.com</td>\n",
       "      <td>12.0</td>\n",
       "    </tr>\n",
       "    <tr>\n",
       "      <th>6</th>\n",
       "      <td>1007</td>\n",
       "      <td>50</td>\n",
       "      <td>M</td>\n",
       "      <td>stu@example.com</td>\n",
       "      <td>12.0</td>\n",
       "    </tr>\n",
       "    <tr>\n",
       "      <th>7</th>\n",
       "      <td>1008</td>\n",
       "      <td>29</td>\n",
       "      <td>F</td>\n",
       "      <td>vwx@example.com</td>\n",
       "      <td>7.0</td>\n",
       "    </tr>\n",
       "    <tr>\n",
       "      <th>8</th>\n",
       "      <td>1009</td>\n",
       "      <td>38</td>\n",
       "      <td>F</td>\n",
       "      <td>yza@example.com</td>\n",
       "      <td>9.0</td>\n",
       "    </tr>\n",
       "  </tbody>\n",
       "</table>\n",
       "</div>"
      ],
      "text/plain": [
       "   customer_id  age gender            email  purchases\n",
       "0         1001   35      M  abc@example.com       10.0\n",
       "1         1002   28      F  def@example.com        5.0\n",
       "2         1003   40      F  ghi@example.com        8.0\n",
       "3         1004   45      M  jkl@example.com        8.0\n",
       "4         1005   33      M  mno@example.com       15.0\n",
       "5         1006   27      F  pqr@example.com       12.0\n",
       "6         1007   50      M  stu@example.com       12.0\n",
       "7         1008   29      F  vwx@example.com        7.0\n",
       "8         1009   38      F  yza@example.com        9.0"
      ]
     },
     "execution_count": 11,
     "metadata": {},
     "output_type": "execute_result"
    }
   ],
   "source": [
    "path=r'C:\\Users\\pbann\\Downloads\\customer_data.csv'\n",
    "clean_data(path)"
   ]
  },
  {
   "cell_type": "code",
   "execution_count": 13,
   "id": "d255dd05",
   "metadata": {
    "ExecuteTime": {
     "end_time": "2023-08-31T09:24:38.964763Z",
     "start_time": "2023-08-31T09:24:38.956762Z"
    }
   },
   "outputs": [],
   "source": [
    "df=pd.read_csv(path)"
   ]
  },
  {
   "cell_type": "code",
   "execution_count": 18,
   "id": "5cd6cde0",
   "metadata": {
    "ExecuteTime": {
     "end_time": "2023-08-31T09:26:18.174051Z",
     "start_time": "2023-08-31T09:26:18.150229Z"
    }
   },
   "outputs": [
    {
     "data": {
      "text/plain": [
       "gender\n",
       "F     7.00\n",
       "M    11.25\n",
       "Name: purchases, dtype: float64"
      ]
     },
     "execution_count": 18,
     "metadata": {},
     "output_type": "execute_result"
    }
   ],
   "source": [
    "df.groupby('gender')['purchases'].mean()"
   ]
  },
  {
   "cell_type": "markdown",
   "id": "f7039609",
   "metadata": {},
   "source": [
    "6."
   ]
  },
  {
   "cell_type": "code",
   "execution_count": null,
   "id": "aa4e5063",
   "metadata": {},
   "outputs": [],
   "source": [
    "SELECT \n",
    "    i.product_id,\n",
    "    i.warehouse_id,\n",
    "    i.quantity AS total_quantity\n",
    "FROM\n",
    "    inventory i\n",
    "JOIN (\n",
    "    SELECT \n",
    "        product_id,\n",
    "        warehouse_id,\n",
    "        MAX(date) AS latest_date\n",
    "    FROM \n",
    "        inventory\n",
    "    GROUP BY \n",
    "        product_id,\n",
    "        warehouse_id\n",
    ") latest_inventory ON i.product_id = latest_inventory.product_id \n",
    "                    AND i.warehouse_id = latest_inventory.warehouse_id\n",
    "                    AND i.date = latest_inventory.latest_date;\n"
   ]
  },
  {
   "cell_type": "markdown",
   "id": "d1b95b88",
   "metadata": {},
   "source": [
    "8."
   ]
  },
  {
   "cell_type": "code",
   "execution_count": null,
   "id": "d8dc0267",
   "metadata": {},
   "outputs": [],
   "source": [
    "https://github.com/pbannuru/assignment/blob/main/ANSR/carsales.pdf"
   ]
  }
 ],
 "metadata": {
  "kernelspec": {
   "display_name": "Python 3 (ipykernel)",
   "language": "python",
   "name": "python3"
  },
  "language_info": {
   "codemirror_mode": {
    "name": "ipython",
    "version": 3
   },
   "file_extension": ".py",
   "mimetype": "text/x-python",
   "name": "python",
   "nbconvert_exporter": "python",
   "pygments_lexer": "ipython3",
   "version": "3.9.13"
  }
 },
 "nbformat": 4,
 "nbformat_minor": 5
}
