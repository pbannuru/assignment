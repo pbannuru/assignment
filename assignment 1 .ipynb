{
 "cells": [
  {
   "cell_type": "markdown",
   "id": "b284c55b",
   "metadata": {},
   "source": [
    "1. In the below elements which of them are values or an expression? eg:- values can be integer or string and expressions will be mathematical operators.\n",
    "\n",
    "     * , - , / , +  = expressions\n",
    "\n",
    "\n",
    "     'hello', -87.8, 6 = values\n"
   ]
  },
  {
   "cell_type": "markdown",
   "id": "b63fa85b",
   "metadata": {},
   "source": [
    "2.What is the difference between string and variable?\n",
    "\n",
    "\n",
    "   string is something which is inside of colon and can be stored as a value   for any variable, variable is something that stores information."
   ]
  },
  {
   "cell_type": "markdown",
   "id": "1bd83748",
   "metadata": {},
   "source": [
    "3.Describe three different data types.\n",
    "\n",
    " integer, float, boolean, lists, tuple, sets, dictionary\n",
    "\n",
    " integers : whole numbers\n",
    "\n",
    " boolean : true/false\n",
    "\n",
    " lists : any thing which is in []\n",
    "\n",
    " tuples : any thing which is in ()"
   ]
  },
  {
   "cell_type": "markdown",
   "id": "b9f9738b",
   "metadata": {},
   "source": [
    "4. What is an expression made up of? What do all expressions do?\n",
    "\n",
    " An expression is a combination of values, variables, operators etc,that   are constructed according to the syntax. expressions evaluates and gives result at final."
   ]
  },
  {
   "cell_type": "markdown",
   "id": "14d2c320",
   "metadata": {
    "ExecuteTime": {
     "end_time": "2022-01-17T06:10:29.620644Z",
     "start_time": "2022-01-17T06:10:29.608677Z"
    }
   },
   "source": [
    "5. This assignment statements, like spam = 10. What is the difference between an expression and a statement?\n",
    "\n",
    "statemnets represents an action or command ex: print command etc, expression is ombination of values, variables, operators etc,that are constructed according to the syntax. expressions evaluates and gives result at final."
   ]
  },
  {
   "cell_type": "markdown",
   "id": "4178f147",
   "metadata": {},
   "source": [
    "\n",
    "6. After running the following code, what does the variable bacon contain?\n",
    "bacon = 22\n",
    "bacon + 1\n",
    "\n"
   ]
  },
  {
   "cell_type": "code",
   "execution_count": 2,
   "id": "c1694773",
   "metadata": {
    "ExecuteTime": {
     "end_time": "2022-01-17T06:11:52.369275Z",
     "start_time": "2022-01-17T06:11:52.346335Z"
    }
   },
   "outputs": [
    {
     "data": {
      "text/plain": [
       "23"
      ]
     },
     "execution_count": 2,
     "metadata": {},
     "output_type": "execute_result"
    }
   ],
   "source": [
    "bacon = 22\n",
    "bacon +1"
   ]
  },
  {
   "cell_type": "markdown",
   "id": "84f90287",
   "metadata": {},
   "source": [
    "7. What should the values of the following two terms be?\n",
    "'spam' + 'spamspam'\n",
    "'spam' * 3"
   ]
  },
  {
   "cell_type": "code",
   "execution_count": 7,
   "id": "93006807",
   "metadata": {
    "ExecuteTime": {
     "end_time": "2022-01-17T06:13:59.370710Z",
     "start_time": "2022-01-17T06:13:59.361733Z"
    }
   },
   "outputs": [
    {
     "data": {
      "text/plain": [
       "'spamspamspam'"
      ]
     },
     "execution_count": 7,
     "metadata": {},
     "output_type": "execute_result"
    }
   ],
   "source": [
    "\n",
    "'spam'*3"
   ]
  },
  {
   "cell_type": "code",
   "execution_count": 8,
   "id": "15d62bf8",
   "metadata": {
    "ExecuteTime": {
     "end_time": "2022-01-17T06:14:11.376407Z",
     "start_time": "2022-01-17T06:14:11.366474Z"
    }
   },
   "outputs": [
    {
     "data": {
      "text/plain": [
       "'spamspamspam'"
      ]
     },
     "execution_count": 8,
     "metadata": {},
     "output_type": "execute_result"
    }
   ],
   "source": [
    "'spam'+'spamspam'"
   ]
  },
  {
   "cell_type": "code",
   "execution_count": null,
   "id": "9071ba09",
   "metadata": {},
   "outputs": [],
   "source": [
    "\n",
    "9. What three functions can be used to get the integer, floating-point number, or string version of a value?\n",
    "10. Why does this expression cause an error? How can you fix it?\n",
    "'I have eaten ' + 99 + ' burritos.'\n"
   ]
  },
  {
   "cell_type": "code",
   "execution_count": 10,
   "id": "fcfe4dd7",
   "metadata": {
    "ExecuteTime": {
     "end_time": "2022-01-17T06:19:58.872191Z",
     "start_time": "2022-01-17T06:19:58.864212Z"
    }
   },
   "outputs": [],
   "source": [
    "a = 'eggs'"
   ]
  },
  {
   "cell_type": "markdown",
   "id": "7d1cdbe3",
   "metadata": {
    "ExecuteTime": {
     "end_time": "2022-01-17T06:21:03.892189Z",
     "start_time": "2022-01-17T06:21:03.882216Z"
    }
   },
   "source": [
    " 8. Why is eggs a valid variable name while 100 is invalid?\n",
    "    \n",
    "    Variable names cannot begin with a number.Only strings can be concatenated to other strings with the + operator."
   ]
  },
  {
   "cell_type": "markdown",
   "id": "c920de53",
   "metadata": {},
   "source": [
    "\n",
    "9. What three functions can be used to get the integer, floating-point number, or string version of a value?\n",
    "\n",
    "  int() , float() , and str( ) functions will evaluate to the integer,   floating-point number, and string version of the value passed to them."
   ]
  },
  {
   "cell_type": "markdown",
   "id": "649ebe08",
   "metadata": {},
   "source": [
    "10. Why does this expression cause an error? How can you fix it?\n",
    "'I have eaten ' + 99 + ' burritos.'\n",
    "\n"
   ]
  },
  {
   "cell_type": "code",
   "execution_count": 12,
   "id": "1fe18ef7",
   "metadata": {
    "ExecuteTime": {
     "end_time": "2022-01-17T06:25:39.390535Z",
     "start_time": "2022-01-17T06:25:38.899743Z"
    }
   },
   "outputs": [
    {
     "ename": "TypeError",
     "evalue": "can only concatenate str (not \"int\") to str",
     "output_type": "error",
     "traceback": [
      "\u001b[1;31m---------------------------------------------------------------------------\u001b[0m",
      "\u001b[1;31mTypeError\u001b[0m                                 Traceback (most recent call last)",
      "\u001b[1;32m~\\AppData\\Local\\Temp/ipykernel_6416/1774935878.py\u001b[0m in \u001b[0;36m<module>\u001b[1;34m\u001b[0m\n\u001b[1;32m----> 1\u001b[1;33m \u001b[1;34m'I have eaten '\u001b[0m \u001b[1;33m+\u001b[0m \u001b[1;36m99\u001b[0m \u001b[1;33m+\u001b[0m \u001b[1;34m' burritos.'\u001b[0m\u001b[1;33m\u001b[0m\u001b[1;33m\u001b[0m\u001b[0m\n\u001b[0m",
      "\u001b[1;31mTypeError\u001b[0m: can only concatenate str (not \"int\") to str"
     ]
    }
   ],
   "source": [
    "'I have eaten ' + 99 + ' burritos.'"
   ]
  },
  {
   "cell_type": "code",
   "execution_count": 13,
   "id": "4c331881",
   "metadata": {
    "ExecuteTime": {
     "end_time": "2022-01-17T06:25:56.749404Z",
     "start_time": "2022-01-17T06:25:56.739428Z"
    }
   },
   "outputs": [
    {
     "data": {
      "text/plain": [
       "'I have eaten 99 burritos.'"
      ]
     },
     "execution_count": 13,
     "metadata": {},
     "output_type": "execute_result"
    }
   ],
   "source": [
    "'I have eaten ' + '99' + ' burritos.'"
   ]
  },
  {
   "cell_type": "code",
   "execution_count": null,
   "id": "ea35bbd5",
   "metadata": {},
   "outputs": [],
   "source": []
  }
 ],
 "metadata": {
  "kernelspec": {
   "display_name": "Python 3 (ipykernel)",
   "language": "python",
   "name": "python3"
  },
  "language_info": {
   "codemirror_mode": {
    "name": "ipython",
    "version": 3
   },
   "file_extension": ".py",
   "mimetype": "text/x-python",
   "name": "python",
   "nbconvert_exporter": "python",
   "pygments_lexer": "ipython3",
   "version": "3.9.7"
  }
 },
 "nbformat": 4,
 "nbformat_minor": 5
}
