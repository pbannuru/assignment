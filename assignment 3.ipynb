{
 "cells": [
  {
   "cell_type": "markdown",
   "id": "84bafe58",
   "metadata": {},
   "source": [
    "1. Why are functions advantageous to have in your programs?\n",
    "\n",
    "2. When does the code in a function run: when it's specified or when it's called?\n",
    "\n",
    "3. What statement creates a function?\n",
    "\n",
    "4. What is the difference between a function and a function call?\n",
    "\n",
    "5. How many global scopes are there in a Python program? How many local scopes?\n",
    "\n",
    "6. What happens to variables in a local scope when the function call returns?\n",
    "\n",
    "7. What is the concept of a return value? Is it possible to have a return value in an expression?\n",
    "\n",
    "8. If a function does not have a return statement, what is the return value of a call to that function?\n",
    "\n",
    "9. How do you make a function variable refer to the global variable?\n",
    "\n",
    "10. What is the data type of None?\n",
    "\n",
    "11. What does the sentence import areallyourpetsnamederic do?\n",
    "\n",
    "12. If you had a bacon() feature in a spam module, what would you call it after importing spam?\n",
    "\n",
    "13. What can you do to save a programme from crashing if it encounters an error?\n",
    "\n",
    "14. What is the purpose of the try clause? What is the purpose of the except clause?\n"
   ]
  },
  {
   "cell_type": "markdown",
   "id": "ae009488",
   "metadata": {},
   "source": [
    "1. we can call n number of data types with different types of outcomes of a  different functions, can be called multiple times with in the program."
   ]
  },
  {
   "cell_type": "markdown",
   "id": "49aad123",
   "metadata": {},
   "source": [
    "2.A function runs, only when it is called."
   ]
  },
  {
   "cell_type": "markdown",
   "id": "98a3e001",
   "metadata": {},
   "source": [
    "3. def"
   ]
  },
  {
   "cell_type": "markdown",
   "id": "621c3970",
   "metadata": {},
   "source": [
    "4. function is something defined by us, application of it is called calling a function."
   ]
  },
  {
   "cell_type": "markdown",
   "id": "7b460605",
   "metadata": {},
   "source": [
    "5. one global scope in a code, and a local scope is created when ever a function is called."
   ]
  },
  {
   "cell_type": "markdown",
   "id": "70138284",
   "metadata": {},
   "source": [
    "6.When a function returns, the local scope is destroyed, and all the variables in it are forgotten."
   ]
  },
  {
   "cell_type": "markdown",
   "id": "367bc78a",
   "metadata": {},
   "source": [
    "7. return value given the end result which we need from the code, yes it is possible"
   ]
  },
  {
   "cell_type": "markdown",
   "id": "e97a9294",
   "metadata": {},
   "source": [
    "8. nothing"
   ]
  },
  {
   "cell_type": "markdown",
   "id": "f03c2c27",
   "metadata": {},
   "source": [
    "9. by using a keyword globals()"
   ]
  },
  {
   "cell_type": "markdown",
   "id": "89dc25d7",
   "metadata": {},
   "source": [
    "10 none is a data type class and can contains no value, so cant be used in functions to perform operations."
   ]
  },
  {
   "cell_type": "markdown",
   "id": "41e2a06f",
   "metadata": {},
   "source": [
    "11. That import statement imports a module named areallyourpetsnamederic."
   ]
  },
  {
   "cell_type": "markdown",
   "id": "98dd9312",
   "metadata": {},
   "source": [
    " 12. spam.bacon()"
   ]
  },
  {
   "cell_type": "markdown",
   "id": "65049b7e",
   "metadata": {},
   "source": [
    "13. place the code inside a try and except block."
   ]
  },
  {
   "cell_type": "markdown",
   "id": "d5484980",
   "metadata": {},
   "source": [
    "14.try clause make the code to excute the next code though there is an error in the code to avoid crashing of complete project,\n",
    "except clause makes the result after passing through the try block if not code wont come to the except block."
   ]
  },
  {
   "cell_type": "code",
   "execution_count": null,
   "id": "618c9b35",
   "metadata": {},
   "outputs": [],
   "source": []
  }
 ],
 "metadata": {
  "kernelspec": {
   "display_name": "Python 3 (ipykernel)",
   "language": "python",
   "name": "python3"
  },
  "language_info": {
   "codemirror_mode": {
    "name": "ipython",
    "version": 3
   },
   "file_extension": ".py",
   "mimetype": "text/x-python",
   "name": "python",
   "nbconvert_exporter": "python",
   "pygments_lexer": "ipython3",
   "version": "3.9.7"
  }
 },
 "nbformat": 4,
 "nbformat_minor": 5
}
