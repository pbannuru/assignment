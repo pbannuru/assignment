{
 "cells": [
  {
   "cell_type": "markdown",
   "id": "ce09e153",
   "metadata": {},
   "source": [
    "1.\tWrite a Python Program to Find the Factorial of a Number?\n",
    "\n",
    "2.\tWrite a Python Program to Display the multiplication Table?\n",
    "\n",
    "3.\tWrite a Python Program to Print the Fibonacci sequence?\n",
    "\n",
    "4.\tWrite a Python Program to Check Armstrong Number?\n",
    "\n",
    "5.\tWrite a Python Program to Find Armstrong Number in an Interval?\n",
    "\n",
    "6.\tWrite a Python Program to Find the Sum of Natural Numbers?\n"
   ]
  },
  {
   "cell_type": "code",
   "execution_count": 6,
   "id": "68545990",
   "metadata": {},
   "outputs": [
    {
     "name": "stdout",
     "output_type": "stream",
     "text": [
      "enter any number:-5\n",
      "120\n"
     ]
    }
   ],
   "source": [
    "num = int(input(\"enter any number:-\"))\n",
    "fact = 1\n",
    "for i in range (1,num+1):\n",
    "    fact = fact * i\n",
    "    \n",
    "print (fact)"
   ]
  },
  {
   "cell_type": "code",
   "execution_count": 12,
   "id": "3f37a06c",
   "metadata": {},
   "outputs": [
    {
     "name": "stdout",
     "output_type": "stream",
     "text": [
      "enter any number:-11\n",
      "11 x 1 = 11\n",
      "11 x 2 = 22\n",
      "11 x 3 = 33\n",
      "11 x 4 = 44\n",
      "11 x 5 = 55\n",
      "11 x 6 = 66\n",
      "11 x 7 = 77\n",
      "11 x 8 = 88\n",
      "11 x 9 = 99\n",
      "11 x 10 = 110\n",
      "11 x 11 = 121\n"
     ]
    }
   ],
   "source": [
    "num = int(input(\"enter any number:-\"))\n",
    "for i in range (1,num+1):\n",
    "    print(num, \"x\" ,i, \"=\" ,num*i)"
   ]
  },
  {
   "cell_type": "code",
   "execution_count": 23,
   "id": "daebe637",
   "metadata": {},
   "outputs": [
    {
     "name": "stdout",
     "output_type": "stream",
     "text": [
      "1\n",
      "2\n",
      "3\n",
      "5\n",
      "8\n",
      "13\n",
      "21\n",
      "34\n",
      "55\n",
      "89\n"
     ]
    }
   ],
   "source": [
    "fib = 0\n",
    "x = 0\n",
    "y = 1\n",
    "while fib < 10:\n",
    "    fib = fib + 1\n",
    "    z = x + y\n",
    "    print(z)\n",
    "    x,y = y,z"
   ]
  },
  {
   "cell_type": "code",
   "execution_count": 29,
   "id": "2a6e085d",
   "metadata": {},
   "outputs": [
    {
     "name": "stdout",
     "output_type": "stream",
     "text": [
      "enter any number:-153\n",
      " its amster num\n"
     ]
    }
   ],
   "source": [
    "num = int(input(\"enter any number:-\"))\n",
    "sum = 0\n",
    "temp = num\n",
    "\n",
    "while temp > 0:\n",
    "    digit = temp % 10\n",
    "    sum = sum + digit **3\n",
    "    temp = temp //10\n",
    "if num == sum:\n",
    "    print (' its amster num')\n",
    "else:\n",
    "    print('no')"
   ]
  },
  {
   "cell_type": "code",
   "execution_count": 44,
   "id": "507dfe37",
   "metadata": {},
   "outputs": [
    {
     "name": "stdout",
     "output_type": "stream",
     "text": [
      "enter 3\n",
      "6\n"
     ]
    }
   ],
   "source": [
    "n = int(input('enter '))\n",
    "count = 0\n",
    "while n > 0:\n",
    "    count += n\n",
    "    n -= 1\n",
    "print (count)\n",
    "    "
   ]
  },
  {
   "cell_type": "code",
   "execution_count": null,
   "id": "b78361c9",
   "metadata": {},
   "outputs": [],
   "source": []
  }
 ],
 "metadata": {
  "kernelspec": {
   "display_name": "Python 3 (ipykernel)",
   "language": "python",
   "name": "python3"
  },
  "language_info": {
   "codemirror_mode": {
    "name": "ipython",
    "version": 3
   },
   "file_extension": ".py",
   "mimetype": "text/x-python",
   "name": "python",
   "nbconvert_exporter": "python",
   "pygments_lexer": "ipython3",
   "version": "3.9.7"
  }
 },
 "nbformat": 4,
 "nbformat_minor": 5
}
