{
 "cells": [
  {
   "cell_type": "markdown",
   "id": "87295f67",
   "metadata": {},
   "source": [
    "1.What are the two values of the Boolean data type? How do you write them?\n",
    "\n",
    "2. What are the three different types of Boolean operators?\n",
    "\n",
    "3. Make a list of each Boolean operator's truth tables (i.e. every possible combination of Boolean values for the operator and what it evaluate ).\n",
    "\n",
    "4. What are the values of the following expressions?\n",
    "(5 > 4) and (3 == 5)\n",
    "not (5 > 4)\n",
    "(5 > 4) or (3 == 5)\n",
    "not ((5 > 4) or (3 == 5))\n",
    "(True and True) and (True == False)\n",
    "(not False) or (not True)\n",
    "\n",
    "5. What are the six comparison operators?\n",
    "\n",
    "6. How do you tell the difference between the equal to and assignment operators?Describe a condition and when you would use one.\n",
    "\n",
    "7. Identify the three blocks in this code:\n",
    "spam = 0\n",
    "if spam == 10:\n",
    "print('eggs')\n",
    "if spam > 5:\n",
    "print('bacon')\n",
    "else:\n",
    "print('ham')\n",
    "print('spam')\n",
    "print('spam')\n",
    "\n",
    "8. Write code that prints Hello if 1 is stored in spam, prints Howdy if 2 is stored in spam, and prints Greetings! if anything else is stored in spam.\n",
    "\n",
    "\n",
    "9.If your programme is stuck in an endless loop, what keys you’ll press?\n",
    "\n",
    "10. How can you tell the difference between break and continue?\n",
    "\n",
    "11. In a for loop, what is the difference between range(10), range(0, 10), and range(0, 10, 1)?\n",
    "\n",
    "12. Write a short program that prints the numbers 1 to 10 using a for loop. Then write an equivalent program that prints the numbers 1 to 10 using a while loop.\n",
    "\n",
    "13. If you had a function named bacon() inside a module named spam, how would you call it after importing spam?\n"
   ]
  },
  {
   "cell_type": "markdown",
   "id": "be488d48",
   "metadata": {},
   "source": [
    "1. There are two Boolean values: True and False"
   ]
  },
  {
   "cell_type": "markdown",
   "id": "43655206",
   "metadata": {},
   "source": [
    "2. and, or, not"
   ]
  },
  {
   "cell_type": "markdown",
   "id": "1da019bb",
   "metadata": {},
   "source": [
    "3.\n",
    "\n",
    "A            B          A&B       A|B       NOT A\n",
    "\n",
    "false    false      false     false     true\n",
    "\n",
    "false    true       false     true      true           \n",
    "\n",
    "true     false      false     true      false \n",
    "\n",
    "true     true       true      true      false "
   ]
  },
  {
   "cell_type": "markdown",
   "id": "5f49bd18",
   "metadata": {},
   "source": [
    "4. (5 > 4) and (3 == 5) not (5 > 4) (5 > 4) or (3 == 5) not ((5 > 4) or (3 == 5)) (True and True) and (True == False) (not False) or (not True)"
   ]
  },
  {
   "cell_type": "code",
   "execution_count": 4,
   "id": "aba8b9ed",
   "metadata": {
    "ExecuteTime": {
     "end_time": "2022-01-17T06:49:14.318676Z",
     "start_time": "2022-01-17T06:49:14.299724Z"
    }
   },
   "outputs": [
    {
     "data": {
      "text/plain": [
       "False"
      ]
     },
     "execution_count": 4,
     "metadata": {},
     "output_type": "execute_result"
    }
   ],
   "source": [
    "(4.5 > 4) and (3 == 5)\n"
   ]
  },
  {
   "cell_type": "code",
   "execution_count": 5,
   "id": "242a9c79",
   "metadata": {
    "ExecuteTime": {
     "end_time": "2022-01-17T06:49:25.351028Z",
     "start_time": "2022-01-17T06:49:25.336540Z"
    }
   },
   "outputs": [
    {
     "data": {
      "text/plain": [
       "False"
      ]
     },
     "execution_count": 5,
     "metadata": {},
     "output_type": "execute_result"
    }
   ],
   "source": [
    "not (5 > 4) \n"
   ]
  },
  {
   "cell_type": "code",
   "execution_count": 6,
   "id": "39f2ccdd",
   "metadata": {
    "ExecuteTime": {
     "end_time": "2022-01-17T06:49:36.603834Z",
     "start_time": "2022-01-17T06:49:36.589869Z"
    }
   },
   "outputs": [
    {
     "data": {
      "text/plain": [
       "True"
      ]
     },
     "execution_count": 6,
     "metadata": {},
     "output_type": "execute_result"
    }
   ],
   "source": [
    "(5 > 4) or (3 == 5) \n"
   ]
  },
  {
   "cell_type": "code",
   "execution_count": 7,
   "id": "2b0117c4",
   "metadata": {
    "ExecuteTime": {
     "end_time": "2022-01-17T06:49:45.385058Z",
     "start_time": "2022-01-17T06:49:45.372097Z"
    }
   },
   "outputs": [
    {
     "data": {
      "text/plain": [
       "False"
      ]
     },
     "execution_count": 7,
     "metadata": {},
     "output_type": "execute_result"
    }
   ],
   "source": [
    "not ((5 > 4) or (3 == 5)) \n"
   ]
  },
  {
   "cell_type": "code",
   "execution_count": 8,
   "id": "31867d21",
   "metadata": {
    "ExecuteTime": {
     "end_time": "2022-01-17T06:49:53.083976Z",
     "start_time": "2022-01-17T06:49:53.070019Z"
    }
   },
   "outputs": [
    {
     "data": {
      "text/plain": [
       "False"
      ]
     },
     "execution_count": 8,
     "metadata": {},
     "output_type": "execute_result"
    }
   ],
   "source": [
    "(True and True) and (True == False) \n"
   ]
  },
  {
   "cell_type": "code",
   "execution_count": 9,
   "id": "fad1f649",
   "metadata": {
    "ExecuteTime": {
     "end_time": "2022-01-17T06:49:55.397874Z",
     "start_time": "2022-01-17T06:49:55.383952Z"
    }
   },
   "outputs": [
    {
     "data": {
      "text/plain": [
       "True"
      ]
     },
     "execution_count": 9,
     "metadata": {},
     "output_type": "execute_result"
    }
   ],
   "source": [
    "(not False) or (not True)"
   ]
  },
  {
   "cell_type": "markdown",
   "id": "484ec64f",
   "metadata": {},
   "source": [
    "5. six comparison operators: less than ( < ), less than or equal to ( <= ), greater than ( > ), greater than or equal to ( >= ), equal to ( == ), and not equal to ( != )."
   ]
  },
  {
   "cell_type": "markdown",
   "id": "ca14430f",
   "metadata": {},
   "source": [
    "6. in case of operator '=' is used, but in case of comparision we use '==' \n",
    "\n",
    "    ex: a=2, a== int"
   ]
  },
  {
   "cell_type": "markdown",
   "id": "45f7c212",
   "metadata": {
    "ExecuteTime": {
     "end_time": "2022-01-20T03:38:58.262729Z",
     "start_time": "2022-01-20T03:38:58.236832Z"
    }
   },
   "source": [
    "7."
   ]
  },
  {
   "cell_type": "code",
   "execution_count": 6,
   "id": "e398dca3",
   "metadata": {
    "ExecuteTime": {
     "end_time": "2022-01-20T03:41:55.240721Z",
     "start_time": "2022-01-20T03:41:55.231748Z"
    }
   },
   "outputs": [
    {
     "name": "stdout",
     "output_type": "stream",
     "text": [
      "ham\n",
      "spam\n",
      "spam\n"
     ]
    }
   ],
   "source": [
    "spam = 0\n",
    "if spam == 10:\n",
    "    print('eggs') \n",
    "if spam > 5:\n",
    "    print('bacon') \n",
    "else:\n",
    "    print('ham') \n",
    "    print('spam') \n",
    "    print('spam')"
   ]
  },
  {
   "cell_type": "markdown",
   "id": "420b21cc",
   "metadata": {
    "ExecuteTime": {
     "end_time": "2022-01-20T03:42:26.542809Z",
     "start_time": "2022-01-20T03:42:26.534831Z"
    }
   },
   "source": [
    "8.Write code that prints Hello if 1 is stored in spam, prints Howdy if 2 is stored in spam, and prints Greetings! if anything else is stored in spam."
   ]
  },
  {
   "cell_type": "code",
   "execution_count": 8,
   "id": "ef922c2f",
   "metadata": {
    "ExecuteTime": {
     "end_time": "2022-01-20T03:44:18.662169Z",
     "start_time": "2022-01-20T03:44:18.653194Z"
    }
   },
   "outputs": [
    {
     "name": "stdout",
     "output_type": "stream",
     "text": [
      "Greetings\n"
     ]
    }
   ],
   "source": [
    "spam =0\n",
    "if spam == 1:\n",
    "    print ('Hello')\n",
    "if spam == 2:\n",
    "    print ('Howdy')\n",
    "else:\n",
    "    print ('Greetings')"
   ]
  },
  {
   "cell_type": "markdown",
   "id": "f9cd752c",
   "metadata": {},
   "source": [
    "9. break"
   ]
  },
  {
   "cell_type": "markdown",
   "id": "864551e7",
   "metadata": {},
   "source": [
    "10. break will end the loop based on the condition we assigned, continue will start the loop if the condition meets"
   ]
  },
  {
   "cell_type": "markdown",
   "id": "808e0b83",
   "metadata": {},
   "source": [
    "11.In a for loop, what is the difference between range(10), range(0, 10), and range(0, 10, 1)?\n",
    "\n",
    "nothing, all are same."
   ]
  },
  {
   "cell_type": "markdown",
   "id": "8e6aee26",
   "metadata": {},
   "source": [
    "12. "
   ]
  },
  {
   "cell_type": "code",
   "execution_count": 13,
   "id": "c59047c0",
   "metadata": {
    "ExecuteTime": {
     "end_time": "2022-01-20T03:48:37.045646Z",
     "start_time": "2022-01-20T03:48:37.039662Z"
    }
   },
   "outputs": [
    {
     "name": "stdout",
     "output_type": "stream",
     "text": [
      "1\n",
      "2\n",
      "3\n",
      "4\n",
      "5\n",
      "6\n",
      "7\n",
      "8\n",
      "9\n"
     ]
    }
   ],
   "source": [
    "for i in range (1,10):\n",
    "    print (i)"
   ]
  },
  {
   "cell_type": "code",
   "execution_count": 14,
   "id": "9bfb5d19",
   "metadata": {
    "ExecuteTime": {
     "end_time": "2022-01-20T03:49:02.655165Z",
     "start_time": "2022-01-20T03:49:02.079289Z"
    }
   },
   "outputs": [
    {
     "ename": "TypeError",
     "evalue": "'float' object cannot be interpreted as an integer",
     "output_type": "error",
     "traceback": [
      "\u001b[1;31m---------------------------------------------------------------------------\u001b[0m",
      "\u001b[1;31mTypeError\u001b[0m                                 Traceback (most recent call last)",
      "\u001b[1;32m~\\AppData\\Local\\Temp/ipykernel_13080/2214747761.py\u001b[0m in \u001b[0;36m<module>\u001b[1;34m\u001b[0m\n\u001b[1;32m----> 1\u001b[1;33m \u001b[1;32mwhile\u001b[0m \u001b[0mi\u001b[0m \u001b[1;32min\u001b[0m \u001b[0mrange\u001b[0m \u001b[1;33m(\u001b[0m\u001b[1;36m1.10\u001b[0m\u001b[1;33m)\u001b[0m\u001b[1;33m:\u001b[0m\u001b[1;33m\u001b[0m\u001b[1;33m\u001b[0m\u001b[0m\n\u001b[0m\u001b[0;32m      2\u001b[0m     \u001b[0mprint\u001b[0m \u001b[1;33m(\u001b[0m\u001b[0mi\u001b[0m\u001b[1;33m)\u001b[0m\u001b[1;33m\u001b[0m\u001b[1;33m\u001b[0m\u001b[0m\n",
      "\u001b[1;31mTypeError\u001b[0m: 'float' object cannot be interpreted as an integer"
     ]
    }
   ],
   "source": [
    "while i in range (1.10):\n",
    "    print (i)"
   ]
  },
  {
   "cell_type": "code",
   "execution_count": 18,
   "id": "581c4815",
   "metadata": {
    "ExecuteTime": {
     "end_time": "2022-01-20T03:55:54.209892Z",
     "start_time": "2022-01-20T03:55:54.202908Z"
    }
   },
   "outputs": [
    {
     "name": "stdout",
     "output_type": "stream",
     "text": [
      "1\n",
      "2\n",
      "3\n",
      "4\n",
      "5\n",
      "6\n",
      "7\n",
      "8\n",
      "9\n",
      "10\n"
     ]
    }
   ],
   "source": [
    "i=1\n",
    "while i < 11:\n",
    "    print(i)\n",
    "    i=i+1\n",
    "    "
   ]
  },
  {
   "cell_type": "markdown",
   "id": "3b5bb7f2",
   "metadata": {},
   "source": [
    "13. import spam\n",
    "\n",
    "    spam.bacon()"
   ]
  },
  {
   "cell_type": "code",
   "execution_count": null,
   "id": "3ab7e0e5",
   "metadata": {},
   "outputs": [],
   "source": []
  }
 ],
 "metadata": {
  "kernelspec": {
   "display_name": "Python 3 (ipykernel)",
   "language": "python",
   "name": "python3"
  },
  "language_info": {
   "codemirror_mode": {
    "name": "ipython",
    "version": 3
   },
   "file_extension": ".py",
   "mimetype": "text/x-python",
   "name": "python",
   "nbconvert_exporter": "python",
   "pygments_lexer": "ipython3",
   "version": "3.9.7"
  }
 },
 "nbformat": 4,
 "nbformat_minor": 5
}
